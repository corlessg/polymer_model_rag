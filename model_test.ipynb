{
 "cells": [
  {
   "cell_type": "code",
   "execution_count": 1,
   "metadata": {},
   "outputs": [
    {
     "ename": "ModuleNotFoundError",
     "evalue": "No module named 'pycifrw'",
     "output_type": "error",
     "traceback": [
      "\u001b[0;31m---------------------------------------------------------------------------\u001b[0m",
      "\u001b[0;31mModuleNotFoundError\u001b[0m                       Traceback (most recent call last)",
      "Cell \u001b[0;32mIn[1], line 1\u001b[0m\n\u001b[0;32m----> 1\u001b[0m \u001b[38;5;28;01mimport\u001b[39;00m\u001b[38;5;250m \u001b[39m\u001b[38;5;21;01mpycifrw\u001b[39;00m\n\u001b[1;32m      4\u001b[0m \u001b[38;5;28;01mdef\u001b[39;00m\u001b[38;5;250m \u001b[39m\u001b[38;5;21mparse_cif\u001b[39m(file_path):\n\u001b[1;32m      5\u001b[0m     cif \u001b[38;5;241m=\u001b[39m pycifrw\u001b[38;5;241m.\u001b[39mCifFile(file_path)\n",
      "\u001b[0;31mModuleNotFoundError\u001b[0m: No module named 'pycifrw'"
     ]
    }
   ],
   "source": [
    "import pycifrw\n",
    "\n",
    "\n",
    "def parse_cif(file_path):\n",
    "    cif = pycifrw.CifFile(file_path)\n",
    "    \n",
    "    polymer_data = []\n",
    "    for block in cif.keys():\n",
    "        for key in cif[block].keys():\n",
    "            polymer_data.append(f\"{key}: {cif[block][key]}\")\n",
    "    \n",
    "    return polymer_data\n",
    "\n",
    "def main():\n",
    "    polymer_info = parse_cif(\"./data/polymer_morph/3850.cif\")\n",
    "    print(polymer_info)\n",
    "\n",
    "# if __name__ == \"__main__\":\n",
    "\n",
    "\n",
    "#     main()\n",
    "\n",
    "main()"
   ]
  },
  {
   "cell_type": "code",
   "execution_count": null,
   "metadata": {},
   "outputs": [],
   "source": []
  }
 ],
 "metadata": {
  "kernelspec": {
   "display_name": "Python 3",
   "language": "python",
   "name": "python3"
  },
  "language_info": {
   "codemirror_mode": {
    "name": "ipython",
    "version": 3
   },
   "file_extension": ".py",
   "mimetype": "text/x-python",
   "name": "python",
   "nbconvert_exporter": "python",
   "pygments_lexer": "ipython3",
   "version": "3.13.1"
  }
 },
 "nbformat": 4,
 "nbformat_minor": 2
}
